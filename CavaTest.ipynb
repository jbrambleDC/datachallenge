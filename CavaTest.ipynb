{
 "cells": [
  {
   "cell_type": "code",
   "execution_count": 296,
   "metadata": {
    "collapsed": false
   },
   "outputs": [],
   "source": [
    "%matplotlib inline\n",
    "import pandas as pd\n",
    "import numpy as np \n",
    "import scipy.stats as stats\n",
    "\n",
    "import matplotlib.pyplot as plt\n",
    "import matplotlib\n",
    "matplotlib.style.use('ggplot')\n",
    "\n",
    "from collections import defaultdict, Counter"
   ]
  },
  {
   "cell_type": "markdown",
   "metadata": {},
   "source": [
    "# Problem 1"
   ]
  },
  {
   "cell_type": "code",
   "execution_count": 297,
   "metadata": {
    "collapsed": false
   },
   "outputs": [],
   "source": [
    "df = pd.read_csv('data1.csv')"
   ]
  },
  {
   "cell_type": "code",
   "execution_count": 298,
   "metadata": {
    "collapsed": false
   },
   "outputs": [
    {
     "data": {
      "text/html": [
       "<div>\n",
       "<table border=\"1\" class=\"dataframe\">\n",
       "  <thead>\n",
       "    <tr style=\"text-align: right;\">\n",
       "      <th></th>\n",
       "      <th>download_app</th>\n",
       "      <th>first_purchase</th>\n",
       "      <th>purchases</th>\n",
       "    </tr>\n",
       "  </thead>\n",
       "  <tbody>\n",
       "    <tr>\n",
       "      <th>0</th>\n",
       "      <td>2014-11-22</td>\n",
       "      <td>8</td>\n",
       "      <td>3</td>\n",
       "    </tr>\n",
       "    <tr>\n",
       "      <th>1</th>\n",
       "      <td>2015-01-19</td>\n",
       "      <td>6</td>\n",
       "      <td>2</td>\n",
       "    </tr>\n",
       "    <tr>\n",
       "      <th>2</th>\n",
       "      <td>2014-12-26</td>\n",
       "      <td>9</td>\n",
       "      <td>1</td>\n",
       "    </tr>\n",
       "    <tr>\n",
       "      <th>3</th>\n",
       "      <td>2014-12-10</td>\n",
       "      <td>5</td>\n",
       "      <td>1</td>\n",
       "    </tr>\n",
       "    <tr>\n",
       "      <th>4</th>\n",
       "      <td>2014-12-07</td>\n",
       "      <td>7</td>\n",
       "      <td>3</td>\n",
       "    </tr>\n",
       "  </tbody>\n",
       "</table>\n",
       "</div>"
      ],
      "text/plain": [
       "  download_app  first_purchase  purchases\n",
       "0   2014-11-22               8          3\n",
       "1   2015-01-19               6          2\n",
       "2   2014-12-26               9          1\n",
       "3   2014-12-10               5          1\n",
       "4   2014-12-07               7          3"
      ]
     },
     "execution_count": 298,
     "metadata": {},
     "output_type": "execute_result"
    }
   ],
   "source": [
    "df.head()"
   ]
  },
  {
   "cell_type": "code",
   "execution_count": 342,
   "metadata": {
    "collapsed": false
   },
   "outputs": [
    {
     "data": {
      "image/png": "[encoded data removed]",
      "text/plain": [
       "<matplotlib.figure.Figure at 0x10adb1410>"
      ]
     },
     "metadata": {},
     "output_type": "display_data"
    }
   ],
   "source": [
    "hist = df.hist(column='first_purchase')\n",
    "plt.title(\"Time Until First Purchase\")\n",
    "plt.show(hist)"
   ]
  },
  {
   "cell_type": "code",
   "execution_count": 276,
   "metadata": {
    "collapsed": false
   },
   "outputs": [
    {
     "data": {
      "text/plain": [
       "count    3000000.000000\n",
       "mean           6.997638\n",
       "std            2.645907\n",
       "min            0.000000\n",
       "25%            5.000000\n",
       "50%            7.000000\n",
       "75%            9.000000\n",
       "max           23.000000\n",
       "Name: first_purchase, dtype: float64"
      ]
     },
     "execution_count": 276,
     "metadata": {},
     "output_type": "execute_result"
    }
   ],
   "source": [
    "df['first_purchase'].describe()"
   ]
  },
  {
   "cell_type": "markdown",
   "metadata": {},
   "source": [
    "*This plot gives us a general idea of the time until first purchase. \n",
    "We see that mean time until first purchase is apprx 7 days. \n",
    "We also see the quartiles. 75% of first purchases are made within 9 days, with a max of 23 days\n",
    "contributing to a long tail on this distribution.*"
   ]
  },
  {
   "cell_type": "code",
   "execution_count": 343,
   "metadata": {
    "collapsed": false,
    "scrolled": true
   },
   "outputs": [
    {
     "data": {
      "image/png": "[encoded data removed]",
      "text/plain": [
       "<matplotlib.figure.Figure at 0x10ae2f810>"
      ]
     },
     "metadata": {},
     "output_type": "display_data"
    }
   ],
   "source": [
    "hist = df.hist(column='purchases')\n",
    "plt.title('# of Purchases')\n",
    "plt.show(hist)"
   ]
  },
  {
   "cell_type": "code",
   "execution_count": 301,
   "metadata": {
    "collapsed": false
   },
   "outputs": [
    {
     "data": {
      "text/plain": [
       "count    3000000.000000\n",
       "mean           3.048680\n",
       "std            1.657021\n",
       "min            1.000000\n",
       "25%            2.000000\n",
       "50%            3.000000\n",
       "75%            4.000000\n",
       "max           17.000000\n",
       "Name: purchases, dtype: float64"
      ]
     },
     "execution_count": 301,
     "metadata": {},
     "output_type": "execute_result"
    }
   ],
   "source": [
    "df['purchases'].describe()"
   ]
  },
  {
   "cell_type": "markdown",
   "metadata": {},
   "source": [
    "*This looks slightly exponential,  but that wouldn't quite make sense given that our data is best described as discrete. Also, I ran tests with qqplots that indicate this is not exponential. *\n",
    "> \"mean # of purchases made by a given person over some time period\"\n",
    "\n",
    "*That sounds very Poissonic! Let us try and test the goodness of fit of a Poisson distribution with Lambda = 3*"
   ]
  },
  {
   "cell_type": "code",
   "execution_count": 302,
   "metadata": {
    "collapsed": false
   },
   "outputs": [
    {
     "data": {
      "image/png": "[encoded data removed]",
      "text/plain": [
       "<matplotlib.figure.Figure at 0x10f0de0d0>"
      ]
     },
     "metadata": {},
     "output_type": "display_data"
    }
   ],
   "source": [
    "#let's make a qunatile-quantile plot\n",
    "purchases = df['purchases'].values\n",
    "fig = stats.probplot(purchases, dist=stats.poisson, sparams=(3,), plot=plt)\n",
    "plt.show(fig)"
   ]
  },
  {
   "cell_type": "markdown",
   "metadata": {},
   "source": [
    "*We get a solid R-Squared here. We should be able to expect this data to obey a Poisson Distribution.*"
   ]
  },
  {
   "cell_type": "code",
   "execution_count": 303,
   "metadata": {
    "collapsed": false
   },
   "outputs": [],
   "source": [
    "df['download_month'] = df['download_app'].str.slice(start=0,stop=7)"
   ]
  },
  {
   "cell_type": "code",
   "execution_count": 304,
   "metadata": {
    "collapsed": false
   },
   "outputs": [
    {
     "data": {
      "text/html": [
       "<div>\n",
       "<table border=\"1\" class=\"dataframe\">\n",
       "  <thead>\n",
       "    <tr style=\"text-align: right;\">\n",
       "      <th></th>\n",
       "      <th>download_app</th>\n",
       "      <th>first_purchase</th>\n",
       "      <th>purchases</th>\n",
       "      <th>download_month</th>\n",
       "    </tr>\n",
       "  </thead>\n",
       "  <tbody>\n",
       "    <tr>\n",
       "      <th>0</th>\n",
       "      <td>2014-11-22</td>\n",
       "      <td>8</td>\n",
       "      <td>3</td>\n",
       "      <td>2014-11</td>\n",
       "    </tr>\n",
       "    <tr>\n",
       "      <th>1</th>\n",
       "      <td>2015-01-19</td>\n",
       "      <td>6</td>\n",
       "      <td>2</td>\n",
       "      <td>2015-01</td>\n",
       "    </tr>\n",
       "    <tr>\n",
       "      <th>2</th>\n",
       "      <td>2014-12-26</td>\n",
       "      <td>9</td>\n",
       "      <td>1</td>\n",
       "      <td>2014-12</td>\n",
       "    </tr>\n",
       "    <tr>\n",
       "      <th>3</th>\n",
       "      <td>2014-12-10</td>\n",
       "      <td>5</td>\n",
       "      <td>1</td>\n",
       "      <td>2014-12</td>\n",
       "    </tr>\n",
       "    <tr>\n",
       "      <th>4</th>\n",
       "      <td>2014-12-07</td>\n",
       "      <td>7</td>\n",
       "      <td>3</td>\n",
       "      <td>2014-12</td>\n",
       "    </tr>\n",
       "  </tbody>\n",
       "</table>\n",
       "</div>"
      ],
      "text/plain": [
       "  download_app  first_purchase  purchases download_month\n",
       "0   2014-11-22               8          3        2014-11\n",
       "1   2015-01-19               6          2        2015-01\n",
       "2   2014-12-26               9          1        2014-12\n",
       "3   2014-12-10               5          1        2014-12\n",
       "4   2014-12-07               7          3        2014-12"
      ]
     },
     "execution_count": 304,
     "metadata": {},
     "output_type": "execute_result"
    }
   ],
   "source": [
    "df.head()"
   ]
  },
  {
   "cell_type": "code",
   "execution_count": 305,
   "metadata": {
    "collapsed": true
   },
   "outputs": [],
   "source": [
    "data = df.groupby('download_month')['first_purchase'].mean()"
   ]
  },
  {
   "cell_type": "code",
   "execution_count": 306,
   "metadata": {
    "collapsed": false
   },
   "outputs": [
    {
     "data": {
      "text/plain": [
       "download_month\n",
       "2014-11    6.999285\n",
       "2014-12    6.996633\n",
       "2015-01    6.997010\n",
       "Name: first_purchase, dtype: float64"
      ]
     },
     "execution_count": 306,
     "metadata": {},
     "output_type": "execute_result"
    }
   ],
   "source": [
    "data.head()"
   ]
  },
  {
   "cell_type": "markdown",
   "metadata": {},
   "source": [
    "*Surprisingly, the mean time to first purchase is not decreasing by a noticeable amount with time. This should be a key metric that tracks the performance/effectiveness of the app. We should incorporate new features, change UX, or create new engagement strategies to try to reduce this time*"
   ]
  },
  {
   "cell_type": "code",
   "execution_count": 307,
   "metadata": {
    "collapsed": false
   },
   "outputs": [
    {
     "data": {
      "text/html": [
       "<div>\n",
       "<table border=\"1\" class=\"dataframe\">\n",
       "  <thead>\n",
       "    <tr style=\"text-align: right;\">\n",
       "      <th></th>\n",
       "      <th>first_purchase</th>\n",
       "      <th>purchases</th>\n",
       "    </tr>\n",
       "  </thead>\n",
       "  <tbody>\n",
       "    <tr>\n",
       "      <th>count</th>\n",
       "      <td>966973.000000</td>\n",
       "      <td>966973.000000</td>\n",
       "    </tr>\n",
       "    <tr>\n",
       "      <th>mean</th>\n",
       "      <td>6.997010</td>\n",
       "      <td>3.048041</td>\n",
       "    </tr>\n",
       "    <tr>\n",
       "      <th>std</th>\n",
       "      <td>2.644624</td>\n",
       "      <td>1.655234</td>\n",
       "    </tr>\n",
       "    <tr>\n",
       "      <th>min</th>\n",
       "      <td>0.000000</td>\n",
       "      <td>1.000000</td>\n",
       "    </tr>\n",
       "    <tr>\n",
       "      <th>25%</th>\n",
       "      <td>5.000000</td>\n",
       "      <td>2.000000</td>\n",
       "    </tr>\n",
       "    <tr>\n",
       "      <th>50%</th>\n",
       "      <td>7.000000</td>\n",
       "      <td>3.000000</td>\n",
       "    </tr>\n",
       "    <tr>\n",
       "      <th>75%</th>\n",
       "      <td>9.000000</td>\n",
       "      <td>4.000000</td>\n",
       "    </tr>\n",
       "    <tr>\n",
       "      <th>max</th>\n",
       "      <td>23.000000</td>\n",
       "      <td>14.000000</td>\n",
       "    </tr>\n",
       "  </tbody>\n",
       "</table>\n",
       "</div>"
      ],
      "text/plain": [
       "       first_purchase      purchases\n",
       "count   966973.000000  966973.000000\n",
       "mean         6.997010       3.048041\n",
       "std          2.644624       1.655234\n",
       "min          0.000000       1.000000\n",
       "25%          5.000000       2.000000\n",
       "50%          7.000000       3.000000\n",
       "75%          9.000000       4.000000\n",
       "max         23.000000      14.000000"
      ]
     },
     "execution_count": 307,
     "metadata": {},
     "output_type": "execute_result"
    }
   ],
   "source": [
    "df[df['download_month'] == '2015-01'].describe()"
   ]
  },
  {
   "cell_type": "markdown",
   "metadata": {},
   "source": [
    "*By changing the download_month above, we see that downloads per month are uniformly across the three month time period. In other words, counts for each month are roughly the same, and not growing. Ideally, we would like to see some linear growth each month and strategize on how to do so*"
   ]
  },
  {
   "cell_type": "code",
   "execution_count": 308,
   "metadata": {
    "collapsed": true
   },
   "outputs": [],
   "source": [
    "purchases_data = df.groupby('download_month')['purchases'].mean()"
   ]
  },
  {
   "cell_type": "code",
   "execution_count": 309,
   "metadata": {
    "collapsed": false
   },
   "outputs": [
    {
     "data": {
      "text/plain": [
       "download_month\n",
       "2014-11    3.049155\n",
       "2014-12    3.048819\n",
       "2015-01    3.048041\n",
       "Name: purchases, dtype: float64"
      ]
     },
     "execution_count": 309,
     "metadata": {},
     "output_type": "execute_result"
    }
   ],
   "source": [
    "purchases_data.head()"
   ]
  },
  {
   "cell_type": "markdown",
   "metadata": {},
   "source": [
    "*We can also see that mean numer of purchases made by a user who downloaded in a given month is also roughly uniform. The downward trend is negligible. However, if we assume that the data for number of purchases ends in January, then mean purchases per month is actually increasing from about 1 in november to about 3 in January. However, this is bittersweet because this also means that the users who download in November and December are purchasing at a lower rate and less engaged. This may also imply that people make purchases after first downloading the app and with time, become less engaged. Either way there is room for improvement with customer engagement* \n",
    "\n",
    "*If we had a dataset of purchase dates instead of download dates, we could plot the cumsum of purhcases with time, and analyze the rates of change, and look for purchasing spikes.*"
   ]
  },
  {
   "cell_type": "markdown",
   "metadata": {},
   "source": [
    "# Problem 2"
   ]
  },
  {
   "cell_type": "code",
   "execution_count": 310,
   "metadata": {
    "collapsed": true
   },
   "outputs": [],
   "source": [
    "sale_data = pd.read_csv('cavaitesmsold.csv')"
   ]
  },
  {
   "cell_type": "code",
   "execution_count": 311,
   "metadata": {
    "collapsed": false
   },
   "outputs": [
    {
     "data": {
      "text/html": [
       "<div>\n",
       "<table border=\"1\" class=\"dataframe\">\n",
       "  <thead>\n",
       "    <tr style=\"text-align: right;\">\n",
       "      <th></th>\n",
       "      <th>item</th>\n",
       "      <th>transactionid</th>\n",
       "    </tr>\n",
       "  </thead>\n",
       "  <tbody>\n",
       "    <tr>\n",
       "      <th>0</th>\n",
       "      <td>Bowl</td>\n",
       "      <td>14549363-7413-45df-906c-cdc0e896aeb1</td>\n",
       "    </tr>\n",
       "    <tr>\n",
       "      <th>1</th>\n",
       "      <td>falafel</td>\n",
       "      <td>14549363-7413-45df-906c-cdc0e896aeb1</td>\n",
       "    </tr>\n",
       "    <tr>\n",
       "      <th>2</th>\n",
       "      <td>Pita</td>\n",
       "      <td>80dd482d-b377-4aab-ae78-3cd1b5415615</td>\n",
       "    </tr>\n",
       "    <tr>\n",
       "      <th>3</th>\n",
       "      <td>Chicken</td>\n",
       "      <td>80dd482d-b377-4aab-ae78-3cd1b5415615</td>\n",
       "    </tr>\n",
       "    <tr>\n",
       "      <th>4</th>\n",
       "      <td>Salad</td>\n",
       "      <td>80dd482d-b377-4aab-ae78-3cd1b5415615</td>\n",
       "    </tr>\n",
       "  </tbody>\n",
       "</table>\n",
       "</div>"
      ],
      "text/plain": [
       "      item                         transactionid\n",
       "0     Bowl  14549363-7413-45df-906c-cdc0e896aeb1\n",
       "1  falafel  14549363-7413-45df-906c-cdc0e896aeb1\n",
       "2     Pita  80dd482d-b377-4aab-ae78-3cd1b5415615\n",
       "3  Chicken  80dd482d-b377-4aab-ae78-3cd1b5415615\n",
       "4    Salad  80dd482d-b377-4aab-ae78-3cd1b5415615"
      ]
     },
     "execution_count": 311,
     "metadata": {},
     "output_type": "execute_result"
    }
   ],
   "source": [
    "sale_data.head()"
   ]
  },
  {
   "cell_type": "code",
   "execution_count": 312,
   "metadata": {
    "collapsed": false,
    "scrolled": false
   },
   "outputs": [
    {
     "data": {
      "text/html": [
       "<div>\n",
       "<table border=\"1\" class=\"dataframe\">\n",
       "  <thead>\n",
       "    <tr style=\"text-align: right;\">\n",
       "      <th></th>\n",
       "      <th>item</th>\n",
       "      <th>transactionid</th>\n",
       "    </tr>\n",
       "  </thead>\n",
       "  <tbody>\n",
       "    <tr>\n",
       "      <th>count</th>\n",
       "      <td>1997174</td>\n",
       "      <td>1997174</td>\n",
       "    </tr>\n",
       "    <tr>\n",
       "      <th>unique</th>\n",
       "      <td>16</td>\n",
       "      <td>659687</td>\n",
       "    </tr>\n",
       "    <tr>\n",
       "      <th>top</th>\n",
       "      <td>Chicken</td>\n",
       "      <td>111a4f91-712f-4f04-88d6-f15ebcbc943a</td>\n",
       "    </tr>\n",
       "    <tr>\n",
       "      <th>freq</th>\n",
       "      <td>373217</td>\n",
       "      <td>28</td>\n",
       "    </tr>\n",
       "  </tbody>\n",
       "</table>\n",
       "</div>"
      ],
      "text/plain": [
       "           item                         transactionid\n",
       "count   1997174                               1997174\n",
       "unique       16                                659687\n",
       "top     Chicken  111a4f91-712f-4f04-88d6-f15ebcbc943a\n",
       "freq     373217                                    28"
      ]
     },
     "execution_count": 312,
     "metadata": {},
     "output_type": "execute_result"
    }
   ],
   "source": [
    "sale_data.describe()"
   ]
  },
  {
   "cell_type": "code",
   "execution_count": 313,
   "metadata": {
    "collapsed": false
   },
   "outputs": [
    {
     "data": {
      "text/plain": [
       "array(['Bowl', 'falafel', 'Pita', 'Chicken', 'Salad', 'meatballs',\n",
       "       'Greens&Grains', 'lamb_sliders', 'small_drink', 'Minis',\n",
       "       'braised_lamb', 'chips', 'cookie', 'large_drink', 'braised_beef',\n",
       "       'soup'], dtype=object)"
      ]
     },
     "execution_count": 313,
     "metadata": {},
     "output_type": "execute_result"
    }
   ],
   "source": [
    "sale_data['item'].unique()"
   ]
  },
  {
   "cell_type": "code",
   "execution_count": 314,
   "metadata": {
    "collapsed": false
   },
   "outputs": [],
   "source": [
    "sd_ = sale_data.set_index('transactionid').stack()\n",
    "all_ids = sale_data['transactionid'].unique()\n",
    "items_ = sale_data['item'].unique()"
   ]
  },
  {
   "cell_type": "code",
   "execution_count": 222,
   "metadata": {
    "collapsed": false
   },
   "outputs": [
    {
     "data": {
      "text/plain": [
       "Counter({'Greens&Grains': 1, 'Salad': 1, 'falafel': 1, 'meatballs': 1})"
      ]
     },
     "execution_count": 222,
     "metadata": {},
     "output_type": "execute_result"
    }
   ],
   "source": [
    "Counter(sd.loc['e5cc9886-09e9-4f14-aaa0-69ebb980c90f'].values)"
   ]
  },
  {
   "cell_type": "markdown",
   "metadata": {},
   "source": [
    "*good to demonstrate that we can use a Counter as seen above, however my preference is to instead track boolean/binary values indicating the presence of an item, since we are not concerned with how much of something someone orders, **we just want to test whether the presence of one item, affects the probability of the presence of another item**, so we just want binary/boolean vals. Using a counter would be nice, however because we could avoid using the if/else in the next function def, since Counters are defaultdicts. Alas, now is not the best time for this*"
   ]
  },
  {
   "cell_type": "code",
   "execution_count": 315,
   "metadata": {
    "collapsed": false
   },
   "outputs": [],
   "source": [
    "# lets reshape this so that each row corresponds to a transaction_id \n",
    "# and each column is a boolean value for the presence of an item.\n",
    "def df_from_samples(ids, sd, items):\n",
    "    tmp_dict = defaultdict(list)\n",
    "    for i in ids:\n",
    "        tmp_dict['transactionid'].append(i)\n",
    "        for item in items:\n",
    "            if item in sd.loc[i].values:\n",
    "                tmp_dict[item].append(1)\n",
    "            else:\n",
    "                tmp_dict[item].append(0)\n",
    "    return tmp_dict"
   ]
  },
  {
   "cell_type": "markdown",
   "metadata": {},
   "source": [
    "### Warning: This  next block takes around 10 minutes. Great time to go grab a snack/drink, and browse Reddit.\n",
    "*The goal is to make multiple samples of 1000 from the data and construct a dataframe from that of 10,000. It is neccesary to construct the dataframe this way because the append procedures above take too long for larger sample sizes. Ideally we would Have this data in Hive or some other storage system, where we could use spark. We will would schedule our transformation jobs and deal with the runtime over the course of a few hours, so that we can process all 660,000 unique transactions. For this particular task, let us work with a measely sample of 10,000. If you have more time to wait, bump the sample size!*\n",
    "\n",
    "*Or if you don't want to wait 10 Minutes, simply uncomment the code a couple blocks ahead and we will create a transformed dataframe composed of 1000 random samples of transactions. this will be good enough for merely testing that the following code yields desirable results. I have ran multiple trials of this, and a random sample of size 1000 is actually large enough to convey the purchase relationships between items.*\n",
    "\n"
   ]
  },
  {
   "cell_type": "code",
   "execution_count": 248,
   "metadata": {
    "collapsed": false
   },
   "outputs": [],
   "source": [
    "for i in range(10):\n",
    "    ids_ = np.random.choice(all_ids, 1000, replace=False)\n",
    "    tmp_df = pd.DataFrame(df_from_samples(ids_, sd_, items_)).set_index('transactionid')\n",
    "    transactions = pd.concat([transactions, tmp_df], axis = 0)   "
   ]
  },
  {
   "cell_type": "markdown",
   "metadata": {},
   "source": [
    "#### If the above code takes too long to run, uncomment the line below and run instead."
   ]
  },
  {
   "cell_type": "code",
   "execution_count": 316,
   "metadata": {
    "collapsed": true
   },
   "outputs": [],
   "source": [
    "#ids_ = np.random.choice(all_ids, 1000, replace=False)\n",
    "#transactions = pd.DataFrame(df_from_samples(ids_, sd_, items_)).set_index('transactionid')"
   ]
  },
  {
   "cell_type": "code",
   "execution_count": 317,
   "metadata": {
    "collapsed": false,
    "scrolled": true
   },
   "outputs": [
    {
     "data": {
      "text/html": [
       "<div>\n",
       "<table border=\"1\" class=\"dataframe\">\n",
       "  <thead>\n",
       "    <tr style=\"text-align: right;\">\n",
       "      <th></th>\n",
       "      <th>Bowl</th>\n",
       "      <th>Chicken</th>\n",
       "      <th>Greens&amp;Grains</th>\n",
       "      <th>Minis</th>\n",
       "      <th>Pita</th>\n",
       "      <th>Salad</th>\n",
       "      <th>braised_beef</th>\n",
       "      <th>braised_lamb</th>\n",
       "      <th>chips</th>\n",
       "      <th>cookie</th>\n",
       "      <th>falafel</th>\n",
       "      <th>lamb_sliders</th>\n",
       "      <th>large_drink</th>\n",
       "      <th>meatballs</th>\n",
       "      <th>small_drink</th>\n",
       "      <th>soup</th>\n",
       "    </tr>\n",
       "    <tr>\n",
       "      <th>transactionid</th>\n",
       "      <th></th>\n",
       "      <th></th>\n",
       "      <th></th>\n",
       "      <th></th>\n",
       "      <th></th>\n",
       "      <th></th>\n",
       "      <th></th>\n",
       "      <th></th>\n",
       "      <th></th>\n",
       "      <th></th>\n",
       "      <th></th>\n",
       "      <th></th>\n",
       "      <th></th>\n",
       "      <th></th>\n",
       "      <th></th>\n",
       "      <th></th>\n",
       "    </tr>\n",
       "  </thead>\n",
       "  <tbody>\n",
       "    <tr>\n",
       "      <th>2a0ad78c-55e7-4d37-8f97-d705289545bc</th>\n",
       "      <td>1</td>\n",
       "      <td>0</td>\n",
       "      <td>0</td>\n",
       "      <td>1</td>\n",
       "      <td>0</td>\n",
       "      <td>0</td>\n",
       "      <td>0</td>\n",
       "      <td>0</td>\n",
       "      <td>0</td>\n",
       "      <td>0</td>\n",
       "      <td>1</td>\n",
       "      <td>0</td>\n",
       "      <td>0</td>\n",
       "      <td>1</td>\n",
       "      <td>0</td>\n",
       "      <td>0</td>\n",
       "    </tr>\n",
       "    <tr>\n",
       "      <th>ca7165a0-efdb-4958-9229-b44b7e586ddb</th>\n",
       "      <td>0</td>\n",
       "      <td>1</td>\n",
       "      <td>0</td>\n",
       "      <td>0</td>\n",
       "      <td>0</td>\n",
       "      <td>1</td>\n",
       "      <td>0</td>\n",
       "      <td>0</td>\n",
       "      <td>0</td>\n",
       "      <td>0</td>\n",
       "      <td>0</td>\n",
       "      <td>0</td>\n",
       "      <td>0</td>\n",
       "      <td>0</td>\n",
       "      <td>0</td>\n",
       "      <td>0</td>\n",
       "    </tr>\n",
       "    <tr>\n",
       "      <th>a4607a20-b41d-446b-8c4a-73bd8c5e7d99</th>\n",
       "      <td>1</td>\n",
       "      <td>0</td>\n",
       "      <td>0</td>\n",
       "      <td>0</td>\n",
       "      <td>0</td>\n",
       "      <td>0</td>\n",
       "      <td>0</td>\n",
       "      <td>0</td>\n",
       "      <td>0</td>\n",
       "      <td>0</td>\n",
       "      <td>1</td>\n",
       "      <td>0</td>\n",
       "      <td>0</td>\n",
       "      <td>0</td>\n",
       "      <td>0</td>\n",
       "      <td>0</td>\n",
       "    </tr>\n",
       "    <tr>\n",
       "      <th>c00899ba-1fe8-4b65-984f-9a871dac220d</th>\n",
       "      <td>0</td>\n",
       "      <td>1</td>\n",
       "      <td>0</td>\n",
       "      <td>0</td>\n",
       "      <td>0</td>\n",
       "      <td>1</td>\n",
       "      <td>0</td>\n",
       "      <td>0</td>\n",
       "      <td>0</td>\n",
       "      <td>0</td>\n",
       "      <td>0</td>\n",
       "      <td>0</td>\n",
       "      <td>0</td>\n",
       "      <td>0</td>\n",
       "      <td>0</td>\n",
       "      <td>0</td>\n",
       "    </tr>\n",
       "    <tr>\n",
       "      <th>ecc18083-3d73-4b89-b7ad-ef1d4e04e840</th>\n",
       "      <td>0</td>\n",
       "      <td>0</td>\n",
       "      <td>0</td>\n",
       "      <td>0</td>\n",
       "      <td>0</td>\n",
       "      <td>1</td>\n",
       "      <td>0</td>\n",
       "      <td>0</td>\n",
       "      <td>0</td>\n",
       "      <td>0</td>\n",
       "      <td>0</td>\n",
       "      <td>0</td>\n",
       "      <td>0</td>\n",
       "      <td>1</td>\n",
       "      <td>0</td>\n",
       "      <td>1</td>\n",
       "    </tr>\n",
       "  </tbody>\n",
       "</table>\n",
       "</div>"
      ],
      "text/plain": [
       "                                      Bowl  Chicken  Greens&Grains  Minis  \\\n",
       "transactionid                                                               \n",
       "2a0ad78c-55e7-4d37-8f97-d705289545bc     1        0              0      1   \n",
       "ca7165a0-efdb-4958-9229-b44b7e586ddb     0        1              0      0   \n",
       "a4607a20-b41d-446b-8c4a-73bd8c5e7d99     1        0              0      0   \n",
       "c00899ba-1fe8-4b65-984f-9a871dac220d     0        1              0      0   \n",
       "ecc18083-3d73-4b89-b7ad-ef1d4e04e840     0        0              0      0   \n",
       "\n",
       "                                      Pita  Salad  braised_beef  braised_lamb  \\\n",
       "transactionid                                                                   \n",
       "2a0ad78c-55e7-4d37-8f97-d705289545bc     0      0             0             0   \n",
       "ca7165a0-efdb-4958-9229-b44b7e586ddb     0      1             0             0   \n",
       "a4607a20-b41d-446b-8c4a-73bd8c5e7d99     0      0             0             0   \n",
       "c00899ba-1fe8-4b65-984f-9a871dac220d     0      1             0             0   \n",
       "ecc18083-3d73-4b89-b7ad-ef1d4e04e840     0      1             0             0   \n",
       "\n",
       "                                      chips  cookie  falafel  lamb_sliders  \\\n",
       "transactionid                                                                \n",
       "2a0ad78c-55e7-4d37-8f97-d705289545bc      0       0        1             0   \n",
       "ca7165a0-efdb-4958-9229-b44b7e586ddb      0       0        0             0   \n",
       "a4607a20-b41d-446b-8c4a-73bd8c5e7d99      0       0        1             0   \n",
       "c00899ba-1fe8-4b65-984f-9a871dac220d      0       0        0             0   \n",
       "ecc18083-3d73-4b89-b7ad-ef1d4e04e840      0       0        0             0   \n",
       "\n",
       "                                      large_drink  meatballs  small_drink  \\\n",
       "transactionid                                                               \n",
       "2a0ad78c-55e7-4d37-8f97-d705289545bc            0          1            0   \n",
       "ca7165a0-efdb-4958-9229-b44b7e586ddb            0          0            0   \n",
       "a4607a20-b41d-446b-8c4a-73bd8c5e7d99            0          0            0   \n",
       "c00899ba-1fe8-4b65-984f-9a871dac220d            0          0            0   \n",
       "ecc18083-3d73-4b89-b7ad-ef1d4e04e840            0          1            0   \n",
       "\n",
       "                                      soup  \n",
       "transactionid                               \n",
       "2a0ad78c-55e7-4d37-8f97-d705289545bc     0  \n",
       "ca7165a0-efdb-4958-9229-b44b7e586ddb     0  \n",
       "a4607a20-b41d-446b-8c4a-73bd8c5e7d99     0  \n",
       "c00899ba-1fe8-4b65-984f-9a871dac220d     0  \n",
       "ecc18083-3d73-4b89-b7ad-ef1d4e04e840     1  "
      ]
     },
     "execution_count": 317,
     "metadata": {},
     "output_type": "execute_result"
    }
   ],
   "source": [
    "transactions.head()"
   ]
  },
  {
   "cell_type": "markdown",
   "metadata": {},
   "source": [
    "*It would be nice to use a one liner to make a correlation matrix. However Pearson's correlation assumes\n",
    "that our vectors are normally distributed, and though it is defined for binary data it is not best suited for this.\n",
    "Complicating matters worse, Pandas does not currently have a method for generating a Jaccard/Cosine similarity matrix\n",
    "Maybe we could lobby Wes Mckinney to add it in. However, for pedagogical pursuits I included a correlation matrix anyways. Sadly, we can't just transform our DF and answer this question with a simple one liner. Nope, that would be too easy ....*"
   ]
  },
  {
   "cell_type": "code",
   "execution_count": 318,
   "metadata": {
    "collapsed": false
   },
   "outputs": [
    {
     "data": {
      "text/html": [
       "<div>\n",
       "<table border=\"1\" class=\"dataframe\">\n",
       "  <thead>\n",
       "    <tr style=\"text-align: right;\">\n",
       "      <th></th>\n",
       "      <th>Bowl</th>\n",
       "      <th>Chicken</th>\n",
       "      <th>Greens&amp;Grains</th>\n",
       "      <th>Minis</th>\n",
       "      <th>Pita</th>\n",
       "      <th>Salad</th>\n",
       "      <th>braised_beef</th>\n",
       "      <th>braised_lamb</th>\n",
       "      <th>chips</th>\n",
       "      <th>cookie</th>\n",
       "      <th>falafel</th>\n",
       "      <th>lamb_sliders</th>\n",
       "      <th>large_drink</th>\n",
       "      <th>meatballs</th>\n",
       "      <th>small_drink</th>\n",
       "      <th>soup</th>\n",
       "    </tr>\n",
       "  </thead>\n",
       "  <tbody>\n",
       "    <tr>\n",
       "      <th>Bowl</th>\n",
       "      <td>1.000000</td>\n",
       "      <td>0.137482</td>\n",
       "      <td>-0.157041</td>\n",
       "      <td>-0.253218</td>\n",
       "      <td>-0.219053</td>\n",
       "      <td>-0.453985</td>\n",
       "      <td>-0.036784</td>\n",
       "      <td>0.079789</td>\n",
       "      <td>0.029027</td>\n",
       "      <td>0.008772</td>\n",
       "      <td>-0.025232</td>\n",
       "      <td>0.009143</td>\n",
       "      <td>0.000198</td>\n",
       "      <td>-0.052943</td>\n",
       "      <td>0.010838</td>\n",
       "      <td>-0.000112</td>\n",
       "    </tr>\n",
       "    <tr>\n",
       "      <th>Chicken</th>\n",
       "      <td>0.137482</td>\n",
       "      <td>1.000000</td>\n",
       "      <td>0.182385</td>\n",
       "      <td>-0.188497</td>\n",
       "      <td>-0.044257</td>\n",
       "      <td>0.046659</td>\n",
       "      <td>-0.158890</td>\n",
       "      <td>-0.224940</td>\n",
       "      <td>-0.110198</td>\n",
       "      <td>0.022552</td>\n",
       "      <td>-0.299300</td>\n",
       "      <td>-0.252834</td>\n",
       "      <td>-0.100882</td>\n",
       "      <td>-0.268352</td>\n",
       "      <td>-0.026181</td>\n",
       "      <td>-0.023214</td>\n",
       "    </tr>\n",
       "    <tr>\n",
       "      <th>Greens&amp;Grains</th>\n",
       "      <td>-0.157041</td>\n",
       "      <td>0.182385</td>\n",
       "      <td>1.000000</td>\n",
       "      <td>-0.117668</td>\n",
       "      <td>-0.070602</td>\n",
       "      <td>-0.215469</td>\n",
       "      <td>-0.003106</td>\n",
       "      <td>-0.005762</td>\n",
       "      <td>-0.020588</td>\n",
       "      <td>0.065618</td>\n",
       "      <td>-0.024837</td>\n",
       "      <td>-0.013831</td>\n",
       "      <td>0.001887</td>\n",
       "      <td>-0.082849</td>\n",
       "      <td>-0.008610</td>\n",
       "      <td>0.006462</td>\n",
       "    </tr>\n",
       "    <tr>\n",
       "      <th>Minis</th>\n",
       "      <td>-0.253218</td>\n",
       "      <td>-0.188497</td>\n",
       "      <td>-0.117668</td>\n",
       "      <td>1.000000</td>\n",
       "      <td>-0.069707</td>\n",
       "      <td>-0.157869</td>\n",
       "      <td>0.168807</td>\n",
       "      <td>0.086025</td>\n",
       "      <td>0.109245</td>\n",
       "      <td>0.058695</td>\n",
       "      <td>-0.037758</td>\n",
       "      <td>0.036403</td>\n",
       "      <td>0.002613</td>\n",
       "      <td>0.223626</td>\n",
       "      <td>0.006700</td>\n",
       "      <td>0.032817</td>\n",
       "    </tr>\n",
       "    <tr>\n",
       "      <th>Pita</th>\n",
       "      <td>-0.219053</td>\n",
       "      <td>-0.044257</td>\n",
       "      <td>-0.070602</td>\n",
       "      <td>-0.069707</td>\n",
       "      <td>1.000000</td>\n",
       "      <td>-0.179300</td>\n",
       "      <td>-0.025354</td>\n",
       "      <td>-0.043440</td>\n",
       "      <td>0.014458</td>\n",
       "      <td>0.036235</td>\n",
       "      <td>-0.005647</td>\n",
       "      <td>0.154334</td>\n",
       "      <td>0.044354</td>\n",
       "      <td>0.125160</td>\n",
       "      <td>0.022842</td>\n",
       "      <td>0.008808</td>\n",
       "    </tr>\n",
       "    <tr>\n",
       "      <th>Salad</th>\n",
       "      <td>-0.453985</td>\n",
       "      <td>0.046659</td>\n",
       "      <td>-0.215469</td>\n",
       "      <td>-0.157869</td>\n",
       "      <td>-0.179300</td>\n",
       "      <td>1.000000</td>\n",
       "      <td>0.004690</td>\n",
       "      <td>-0.029198</td>\n",
       "      <td>-0.002474</td>\n",
       "      <td>0.018589</td>\n",
       "      <td>0.216768</td>\n",
       "      <td>-0.035146</td>\n",
       "      <td>0.024626</td>\n",
       "      <td>-0.032837</td>\n",
       "      <td>0.004590</td>\n",
       "      <td>0.007150</td>\n",
       "    </tr>\n",
       "    <tr>\n",
       "      <th>braised_beef</th>\n",
       "      <td>-0.036784</td>\n",
       "      <td>-0.158890</td>\n",
       "      <td>-0.003106</td>\n",
       "      <td>0.168807</td>\n",
       "      <td>-0.025354</td>\n",
       "      <td>0.004690</td>\n",
       "      <td>1.000000</td>\n",
       "      <td>-0.033072</td>\n",
       "      <td>-0.066409</td>\n",
       "      <td>0.172032</td>\n",
       "      <td>-0.093012</td>\n",
       "      <td>-0.094390</td>\n",
       "      <td>0.008794</td>\n",
       "      <td>-0.075621</td>\n",
       "      <td>0.042325</td>\n",
       "      <td>0.020056</td>\n",
       "    </tr>\n",
       "    <tr>\n",
       "      <th>braised_lamb</th>\n",
       "      <td>0.079789</td>\n",
       "      <td>-0.224940</td>\n",
       "      <td>-0.005762</td>\n",
       "      <td>0.086025</td>\n",
       "      <td>-0.043440</td>\n",
       "      <td>-0.029198</td>\n",
       "      <td>-0.033072</td>\n",
       "      <td>1.000000</td>\n",
       "      <td>0.173000</td>\n",
       "      <td>0.112694</td>\n",
       "      <td>-0.113846</td>\n",
       "      <td>-0.091891</td>\n",
       "      <td>0.113388</td>\n",
       "      <td>-0.119297</td>\n",
       "      <td>-0.005812</td>\n",
       "      <td>0.144361</td>\n",
       "    </tr>\n",
       "    <tr>\n",
       "      <th>chips</th>\n",
       "      <td>0.029027</td>\n",
       "      <td>-0.110198</td>\n",
       "      <td>-0.020588</td>\n",
       "      <td>0.109245</td>\n",
       "      <td>0.014458</td>\n",
       "      <td>-0.002474</td>\n",
       "      <td>-0.066409</td>\n",
       "      <td>0.173000</td>\n",
       "      <td>1.000000</td>\n",
       "      <td>-0.019784</td>\n",
       "      <td>-0.053589</td>\n",
       "      <td>0.299179</td>\n",
       "      <td>-0.041725</td>\n",
       "      <td>-0.017357</td>\n",
       "      <td>0.003756</td>\n",
       "      <td>-0.046533</td>\n",
       "    </tr>\n",
       "    <tr>\n",
       "      <th>cookie</th>\n",
       "      <td>0.008772</td>\n",
       "      <td>0.022552</td>\n",
       "      <td>0.065618</td>\n",
       "      <td>0.058695</td>\n",
       "      <td>0.036235</td>\n",
       "      <td>0.018589</td>\n",
       "      <td>0.172032</td>\n",
       "      <td>0.112694</td>\n",
       "      <td>-0.019784</td>\n",
       "      <td>1.000000</td>\n",
       "      <td>-0.099304</td>\n",
       "      <td>0.070979</td>\n",
       "      <td>-0.063688</td>\n",
       "      <td>-0.010602</td>\n",
       "      <td>0.004848</td>\n",
       "      <td>-0.034481</td>\n",
       "    </tr>\n",
       "    <tr>\n",
       "      <th>falafel</th>\n",
       "      <td>-0.025232</td>\n",
       "      <td>-0.299300</td>\n",
       "      <td>-0.024837</td>\n",
       "      <td>-0.037758</td>\n",
       "      <td>-0.005647</td>\n",
       "      <td>0.216768</td>\n",
       "      <td>-0.093012</td>\n",
       "      <td>-0.113846</td>\n",
       "      <td>-0.053589</td>\n",
       "      <td>-0.099304</td>\n",
       "      <td>1.000000</td>\n",
       "      <td>-0.146185</td>\n",
       "      <td>-0.032855</td>\n",
       "      <td>-0.122608</td>\n",
       "      <td>-0.033400</td>\n",
       "      <td>-0.012378</td>\n",
       "    </tr>\n",
       "    <tr>\n",
       "      <th>lamb_sliders</th>\n",
       "      <td>0.009143</td>\n",
       "      <td>-0.252834</td>\n",
       "      <td>-0.013831</td>\n",
       "      <td>0.036403</td>\n",
       "      <td>0.154334</td>\n",
       "      <td>-0.035146</td>\n",
       "      <td>-0.094390</td>\n",
       "      <td>-0.091891</td>\n",
       "      <td>0.299179</td>\n",
       "      <td>0.070979</td>\n",
       "      <td>-0.146185</td>\n",
       "      <td>1.000000</td>\n",
       "      <td>0.122156</td>\n",
       "      <td>-0.122932</td>\n",
       "      <td>0.169335</td>\n",
       "      <td>0.015891</td>\n",
       "    </tr>\n",
       "    <tr>\n",
       "      <th>large_drink</th>\n",
       "      <td>0.000198</td>\n",
       "      <td>-0.100882</td>\n",
       "      <td>0.001887</td>\n",
       "      <td>0.002613</td>\n",
       "      <td>0.044354</td>\n",
       "      <td>0.024626</td>\n",
       "      <td>0.008794</td>\n",
       "      <td>0.113388</td>\n",
       "      <td>-0.041725</td>\n",
       "      <td>-0.063688</td>\n",
       "      <td>-0.032855</td>\n",
       "      <td>0.122156</td>\n",
       "      <td>1.000000</td>\n",
       "      <td>0.012559</td>\n",
       "      <td>0.035034</td>\n",
       "      <td>-0.041048</td>\n",
       "    </tr>\n",
       "    <tr>\n",
       "      <th>meatballs</th>\n",
       "      <td>-0.052943</td>\n",
       "      <td>-0.268352</td>\n",
       "      <td>-0.082849</td>\n",
       "      <td>0.223626</td>\n",
       "      <td>0.125160</td>\n",
       "      <td>-0.032837</td>\n",
       "      <td>-0.075621</td>\n",
       "      <td>-0.119297</td>\n",
       "      <td>-0.017357</td>\n",
       "      <td>-0.010602</td>\n",
       "      <td>-0.122608</td>\n",
       "      <td>-0.122932</td>\n",
       "      <td>0.012559</td>\n",
       "      <td>1.000000</td>\n",
       "      <td>-0.020761</td>\n",
       "      <td>-0.008749</td>\n",
       "    </tr>\n",
       "    <tr>\n",
       "      <th>small_drink</th>\n",
       "      <td>0.010838</td>\n",
       "      <td>-0.026181</td>\n",
       "      <td>-0.008610</td>\n",
       "      <td>0.006700</td>\n",
       "      <td>0.022842</td>\n",
       "      <td>0.004590</td>\n",
       "      <td>0.042325</td>\n",
       "      <td>-0.005812</td>\n",
       "      <td>0.003756</td>\n",
       "      <td>0.004848</td>\n",
       "      <td>-0.033400</td>\n",
       "      <td>0.169335</td>\n",
       "      <td>0.035034</td>\n",
       "      <td>-0.020761</td>\n",
       "      <td>1.000000</td>\n",
       "      <td>-0.053719</td>\n",
       "    </tr>\n",
       "    <tr>\n",
       "      <th>soup</th>\n",
       "      <td>-0.000112</td>\n",
       "      <td>-0.023214</td>\n",
       "      <td>0.006462</td>\n",
       "      <td>0.032817</td>\n",
       "      <td>0.008808</td>\n",
       "      <td>0.007150</td>\n",
       "      <td>0.020056</td>\n",
       "      <td>0.144361</td>\n",
       "      <td>-0.046533</td>\n",
       "      <td>-0.034481</td>\n",
       "      <td>-0.012378</td>\n",
       "      <td>0.015891</td>\n",
       "      <td>-0.041048</td>\n",
       "      <td>-0.008749</td>\n",
       "      <td>-0.053719</td>\n",
       "      <td>1.000000</td>\n",
       "    </tr>\n",
       "  </tbody>\n",
       "</table>\n",
       "</div>"
      ],
      "text/plain": [
       "                   Bowl   Chicken  Greens&Grains     Minis      Pita  \\\n",
       "Bowl           1.000000  0.137482      -0.157041 -0.253218 -0.219053   \n",
       "Chicken        0.137482  1.000000       0.182385 -0.188497 -0.044257   \n",
       "Greens&Grains -0.157041  0.182385       1.000000 -0.117668 -0.070602   \n",
       "Minis         -0.253218 -0.188497      -0.117668  1.000000 -0.069707   \n",
       "Pita          -0.219053 -0.044257      -0.070602 -0.069707  1.000000   \n",
       "Salad         -0.453985  0.046659      -0.215469 -0.157869 -0.179300   \n",
       "braised_beef  -0.036784 -0.158890      -0.003106  0.168807 -0.025354   \n",
       "braised_lamb   0.079789 -0.224940      -0.005762  0.086025 -0.043440   \n",
       "chips          0.029027 -0.110198      -0.020588  0.109245  0.014458   \n",
       "cookie         0.008772  0.022552       0.065618  0.058695  0.036235   \n",
       "falafel       -0.025232 -0.299300      -0.024837 -0.037758 -0.005647   \n",
       "lamb_sliders   0.009143 -0.252834      -0.013831  0.036403  0.154334   \n",
       "large_drink    0.000198 -0.100882       0.001887  0.002613  0.044354   \n",
       "meatballs     -0.052943 -0.268352      -0.082849  0.223626  0.125160   \n",
       "small_drink    0.010838 -0.026181      -0.008610  0.006700  0.022842   \n",
       "soup          -0.000112 -0.023214       0.006462  0.032817  0.008808   \n",
       "\n",
       "                  Salad  braised_beef  braised_lamb     chips    cookie  \\\n",
       "Bowl          -0.453985     -0.036784      0.079789  0.029027  0.008772   \n",
       "Chicken        0.046659     -0.158890     -0.224940 -0.110198  0.022552   \n",
       "Greens&Grains -0.215469     -0.003106     -0.005762 -0.020588  0.065618   \n",
       "Minis         -0.157869      0.168807      0.086025  0.109245  0.058695   \n",
       "Pita          -0.179300     -0.025354     -0.043440  0.014458  0.036235   \n",
       "Salad          1.000000      0.004690     -0.029198 -0.002474  0.018589   \n",
       "braised_beef   0.004690      1.000000     -0.033072 -0.066409  0.172032   \n",
       "braised_lamb  -0.029198     -0.033072      1.000000  0.173000  0.112694   \n",
       "chips         -0.002474     -0.066409      0.173000  1.000000 -0.019784   \n",
       "cookie         0.018589      0.172032      0.112694 -0.019784  1.000000   \n",
       "falafel        0.216768     -0.093012     -0.113846 -0.053589 -0.099304   \n",
       "lamb_sliders  -0.035146     -0.094390     -0.091891  0.299179  0.070979   \n",
       "large_drink    0.024626      0.008794      0.113388 -0.041725 -0.063688   \n",
       "meatballs     -0.032837     -0.075621     -0.119297 -0.017357 -0.010602   \n",
       "small_drink    0.004590      0.042325     -0.005812  0.003756  0.004848   \n",
       "soup           0.007150      0.020056      0.144361 -0.046533 -0.034481   \n",
       "\n",
       "                falafel  lamb_sliders  large_drink  meatballs  small_drink  \\\n",
       "Bowl          -0.025232      0.009143     0.000198  -0.052943     0.010838   \n",
       "Chicken       -0.299300     -0.252834    -0.100882  -0.268352    -0.026181   \n",
       "Greens&Grains -0.024837     -0.013831     0.001887  -0.082849    -0.008610   \n",
       "Minis         -0.037758      0.036403     0.002613   0.223626     0.006700   \n",
       "Pita          -0.005647      0.154334     0.044354   0.125160     0.022842   \n",
       "Salad          0.216768     -0.035146     0.024626  -0.032837     0.004590   \n",
       "braised_beef  -0.093012     -0.094390     0.008794  -0.075621     0.042325   \n",
       "braised_lamb  -0.113846     -0.091891     0.113388  -0.119297    -0.005812   \n",
       "chips         -0.053589      0.299179    -0.041725  -0.017357     0.003756   \n",
       "cookie        -0.099304      0.070979    -0.063688  -0.010602     0.004848   \n",
       "falafel        1.000000     -0.146185    -0.032855  -0.122608    -0.033400   \n",
       "lamb_sliders  -0.146185      1.000000     0.122156  -0.122932     0.169335   \n",
       "large_drink   -0.032855      0.122156     1.000000   0.012559     0.035034   \n",
       "meatballs     -0.122608     -0.122932     0.012559   1.000000    -0.020761   \n",
       "small_drink   -0.033400      0.169335     0.035034  -0.020761     1.000000   \n",
       "soup          -0.012378      0.015891    -0.041048  -0.008749    -0.053719   \n",
       "\n",
       "                   soup  \n",
       "Bowl          -0.000112  \n",
       "Chicken       -0.023214  \n",
       "Greens&Grains  0.006462  \n",
       "Minis          0.032817  \n",
       "Pita           0.008808  \n",
       "Salad          0.007150  \n",
       "braised_beef   0.020056  \n",
       "braised_lamb   0.144361  \n",
       "chips         -0.046533  \n",
       "cookie        -0.034481  \n",
       "falafel       -0.012378  \n",
       "lamb_sliders   0.015891  \n",
       "large_drink   -0.041048  \n",
       "meatballs     -0.008749  \n",
       "small_drink   -0.053719  \n",
       "soup           1.000000  "
      ]
     },
     "execution_count": 318,
     "metadata": {},
     "output_type": "execute_result"
    }
   ],
   "source": [
    "transactions.corr(method='pearson')"
   ]
  },
  {
   "cell_type": "markdown",
   "metadata": {},
   "source": [
    "*First we will take the transpose of our transactions dataframe. this matrix representation is highly sparse, so we can reduce it to a sparse matrix, then we will multiply the matrix by its transpose. this gives a square matrix where each column and row index allow us to access the dot product of those two vectors from our original transactions matrix. Then we will do a messy loop through each value and divide it by the product of the scalar quantities of each vector, this will give us the Cosine similarity. For further info, see https://en.wikipedia.org/wiki/Cosine_similarity*"
   ]
  },
  {
   "cell_type": "code",
   "execution_count": 336,
   "metadata": {
    "collapsed": false
   },
   "outputs": [],
   "source": [
    "# This is another operation that can take some time, appoximately 7 minuts for a sample of 10,000.\n",
    "transactions_T = transactions.transpose()\n",
    "sparse = transactions_T.to_sparse()\n",
    "similarity = sparse.dot(sparse.transpose())"
   ]
  },
  {
   "cell_type": "code",
   "execution_count": 337,
   "metadata": {
    "collapsed": false
   },
   "outputs": [],
   "source": [
    "# This divides each element by the product of the scalar quanitites of each vector.\n",
    "for i in similarity.columns.values:\n",
    "    tmp_series = pd.Series(index=similarity.columns.values)\n",
    "    for j in similarity.columns.values:\n",
    "        tmp_series[j] = float(similarity[i][j])/(sqrt(float(sum(transactions[i]**2)))*sqrt(float(sum(transactions[j]**2))))\n",
    "    similarity[i] = tmp_series"
   ]
  },
  {
   "cell_type": "code",
   "execution_count": 338,
   "metadata": {
    "collapsed": false
   },
   "outputs": [
    {
     "data": {
      "text/html": [
       "<div>\n",
       "<table border=\"1\" class=\"dataframe\">\n",
       "  <thead>\n",
       "    <tr style=\"text-align: right;\">\n",
       "      <th></th>\n",
       "      <th>Bowl</th>\n",
       "      <th>Chicken</th>\n",
       "      <th>Greens&amp;Grains</th>\n",
       "      <th>Minis</th>\n",
       "      <th>Pita</th>\n",
       "      <th>Salad</th>\n",
       "      <th>braised_beef</th>\n",
       "      <th>braised_lamb</th>\n",
       "      <th>chips</th>\n",
       "      <th>cookie</th>\n",
       "      <th>falafel</th>\n",
       "      <th>lamb_sliders</th>\n",
       "      <th>large_drink</th>\n",
       "      <th>meatballs</th>\n",
       "      <th>small_drink</th>\n",
       "      <th>soup</th>\n",
       "    </tr>\n",
       "  </thead>\n",
       "  <tbody>\n",
       "    <tr>\n",
       "      <th>Bowl</th>\n",
       "      <td>1.000000</td>\n",
       "      <td>0.514442</td>\n",
       "      <td>0.114360</td>\n",
       "      <td>0.044159</td>\n",
       "      <td>0.066770</td>\n",
       "      <td>0.115033</td>\n",
       "      <td>0.135260</td>\n",
       "      <td>0.259053</td>\n",
       "      <td>0.208458</td>\n",
       "      <td>0.254129</td>\n",
       "      <td>0.284824</td>\n",
       "      <td>0.264008</td>\n",
       "      <td>0.148398</td>\n",
       "      <td>0.207798</td>\n",
       "      <td>0.141981</td>\n",
       "      <td>0.154877</td>\n",
       "    </tr>\n",
       "    <tr>\n",
       "      <th>Chicken</th>\n",
       "      <td>0.514442</td>\n",
       "      <td>1.000000</td>\n",
       "      <td>0.368376</td>\n",
       "      <td>0.115060</td>\n",
       "      <td>0.211257</td>\n",
       "      <td>0.447214</td>\n",
       "      <td>0.062934</td>\n",
       "      <td>0.060267</td>\n",
       "      <td>0.124349</td>\n",
       "      <td>0.281529</td>\n",
       "      <td>0.132524</td>\n",
       "      <td>0.108387</td>\n",
       "      <td>0.087878</td>\n",
       "      <td>0.083415</td>\n",
       "      <td>0.125169</td>\n",
       "      <td>0.150129</td>\n",
       "    </tr>\n",
       "    <tr>\n",
       "      <th>Greens&amp;Grains</th>\n",
       "      <td>0.114360</td>\n",
       "      <td>0.368376</td>\n",
       "      <td>1.000000</td>\n",
       "      <td>0.023716</td>\n",
       "      <td>0.063750</td>\n",
       "      <td>0.059490</td>\n",
       "      <td>0.088050</td>\n",
       "      <td>0.107019</td>\n",
       "      <td>0.086118</td>\n",
       "      <td>0.194973</td>\n",
       "      <td>0.148223</td>\n",
       "      <td>0.132056</td>\n",
       "      <td>0.084528</td>\n",
       "      <td>0.065646</td>\n",
       "      <td>0.066887</td>\n",
       "      <td>0.092419</td>\n",
       "    </tr>\n",
       "    <tr>\n",
       "      <th>Minis</th>\n",
       "      <td>0.044159</td>\n",
       "      <td>0.115060</td>\n",
       "      <td>0.023716</td>\n",
       "      <td>1.000000</td>\n",
       "      <td>0.064002</td>\n",
       "      <td>0.101075</td>\n",
       "      <td>0.243098</td>\n",
       "      <td>0.188025</td>\n",
       "      <td>0.201737</td>\n",
       "      <td>0.188495</td>\n",
       "      <td>0.136905</td>\n",
       "      <td>0.174446</td>\n",
       "      <td>0.084863</td>\n",
       "      <td>0.329531</td>\n",
       "      <td>0.080582</td>\n",
       "      <td>0.115982</td>\n",
       "    </tr>\n",
       "    <tr>\n",
       "      <th>Pita</th>\n",
       "      <td>0.066770</td>\n",
       "      <td>0.211257</td>\n",
       "      <td>0.063750</td>\n",
       "      <td>0.064002</td>\n",
       "      <td>1.000000</td>\n",
       "      <td>0.083362</td>\n",
       "      <td>0.066832</td>\n",
       "      <td>0.072204</td>\n",
       "      <td>0.116204</td>\n",
       "      <td>0.168085</td>\n",
       "      <td>0.162005</td>\n",
       "      <td>0.274322</td>\n",
       "      <td>0.122206</td>\n",
       "      <td>0.243597</td>\n",
       "      <td>0.094768</td>\n",
       "      <td>0.093530</td>\n",
       "    </tr>\n",
       "  </tbody>\n",
       "</table>\n",
       "</div>"
      ],
      "text/plain": [
       "                   Bowl   Chicken  Greens&Grains     Minis      Pita  \\\n",
       "Bowl           1.000000  0.514442       0.114360  0.044159  0.066770   \n",
       "Chicken        0.514442  1.000000       0.368376  0.115060  0.211257   \n",
       "Greens&Grains  0.114360  0.368376       1.000000  0.023716  0.063750   \n",
       "Minis          0.044159  0.115060       0.023716  1.000000  0.064002   \n",
       "Pita           0.066770  0.211257       0.063750  0.064002  1.000000   \n",
       "\n",
       "                  Salad  braised_beef  braised_lamb     chips    cookie  \\\n",
       "Bowl           0.115033      0.135260      0.259053  0.208458  0.254129   \n",
       "Chicken        0.447214      0.062934      0.060267  0.124349  0.281529   \n",
       "Greens&Grains  0.059490      0.088050      0.107019  0.086118  0.194973   \n",
       "Minis          0.101075      0.243098      0.188025  0.201737  0.188495   \n",
       "Pita           0.083362      0.066832      0.072204  0.116204  0.168085   \n",
       "\n",
       "                falafel  lamb_sliders  large_drink  meatballs  small_drink  \\\n",
       "Bowl           0.284824      0.264008     0.148398   0.207798     0.141981   \n",
       "Chicken        0.132524      0.108387     0.087878   0.083415     0.125169   \n",
       "Greens&Grains  0.148223      0.132056     0.084528   0.065646     0.066887   \n",
       "Minis          0.136905      0.174446     0.084863   0.329531     0.080582   \n",
       "Pita           0.162005      0.274322     0.122206   0.243597     0.094768   \n",
       "\n",
       "                   soup  \n",
       "Bowl           0.154877  \n",
       "Chicken        0.150129  \n",
       "Greens&Grains  0.092419  \n",
       "Minis          0.115982  \n",
       "Pita           0.093530  "
      ]
     },
     "execution_count": 338,
     "metadata": {},
     "output_type": "execute_result"
    }
   ],
   "source": [
    "similarity.head()"
   ]
  },
  {
   "cell_type": "markdown",
   "metadata": {},
   "source": [
    "*These values range from 0 to 1, and represent the cosine of the 'angle' between the column vectors, the close to 1 the value is the more similar they are. Which means that the higher probability that the presence of these values is correlated. However, this doesnt give us the exact conditional probability of ordering chicken given that a bowl was ordered. If we were building some kind of productized solution we would likely want to track correlation/similarity, but in order to truly get refined answers let us calculate the actual conditional probabilities and see how they differ*"
   ]
  },
  {
   "cell_type": "code",
   "execution_count": 325,
   "metadata": {
    "collapsed": false
   },
   "outputs": [],
   "source": [
    "def item_prob(df, item):\n",
    "    return float(df[df[item] == 1][item].count())/float(df[item].count())"
   ]
  },
  {
   "cell_type": "code",
   "execution_count": 326,
   "metadata": {
    "collapsed": false
   },
   "outputs": [
    {
     "data": {
      "text/plain": [
       "0.47"
      ]
     },
     "execution_count": 326,
     "metadata": {},
     "output_type": "execute_result"
    }
   ],
   "source": [
    "item_prob(transactions, 'Chicken')"
   ]
  },
  {
   "cell_type": "code",
   "execution_count": 327,
   "metadata": {
    "collapsed": true
   },
   "outputs": [],
   "source": [
    "def conditional_item_prob(df, item, item2):\n",
    "    df = df[df[item2] == 1]\n",
    "    return float(df[df[item] == 1][item].count())/float(df[item].count())"
   ]
  },
  {
   "cell_type": "code",
   "execution_count": 328,
   "metadata": {
    "collapsed": false
   },
   "outputs": [
    {
     "data": {
      "text/plain": [
       "0.5528255528255528"
      ]
     },
     "execution_count": 328,
     "metadata": {},
     "output_type": "execute_result"
    }
   ],
   "source": [
    "conditional_item_prob(transactions, 'Chicken', 'Bowl')"
   ]
  },
  {
   "cell_type": "markdown",
   "metadata": {},
   "source": [
    "*Let us calculate the probability of each item ordered, and then calculate the probability of that item being ordered given that some other item was also ordered. Then we can track the instances where these conditional probabilities exceed the probability of ordering some item*"
   ]
  },
  {
   "cell_type": "code",
   "execution_count": null,
   "metadata": {
    "collapsed": false,
    "scrolled": true
   },
   "outputs": [],
   "source": [
    "item_pairs = []\n",
    "for i in transactions.columns.values:\n",
    "    print \"The Probability of an order containing {0} is {1}\".format(i, item_prob(transactions, i))\n",
    "    for j in transactions.columns.values:\n",
    "        if i != j and conditional_item_prob(transactions, i, j) > item_prob(transactions, i):\n",
    "            item_pairs.append((i, j, conditional_item_prob(transactions, i , j), item_prob(transactions, i)))\n",
    "            print '\\t' + \\\n",
    "            \"The Probability of an order containing {0}, given the order contains {1} is {2}\"\\\n",
    "            .format(i, j, conditional_item_prob(transactions, i , j))"
   ]
  },
  {
   "cell_type": "markdown",
   "metadata": {},
   "source": [
    "*for an entry as such (a, b, i, j) in this list of Tuples, Read as follows: **The Probability of a, given b is i, as opposed to the probability of a by itself being j.***"
   ]
  },
  {
   "cell_type": "code",
   "execution_count": 330,
   "metadata": {
    "collapsed": false
   },
   "outputs": [
    {
     "data": {
      "text/plain": [
       "[('chips', 'lamb_sliders', 0.27607361963190186, 0.086),\n",
       " ('lamb_sliders', 'chips', 0.5232558139534884, 0.163),\n",
       " ('small_drink', 'lamb_sliders', 0.12269938650306748, 0.044),\n",
       " ('lamb_sliders', 'small_drink', 0.45454545454545453, 0.163),\n",
       " ('soup', 'braised_lamb', 0.16161616161616163, 0.059),\n",
       " ('braised_lamb', 'soup', 0.2711864406779661, 0.099),\n",
       " ('chips', 'braised_lamb', 0.23232323232323232, 0.086),\n",
       " ('braised_lamb', 'chips', 0.26744186046511625, 0.099),\n",
       " ('Minis', 'braised_beef', 0.3384615384615385, 0.126),\n",
       " ('braised_beef', 'Minis', 0.1746031746031746, 0.065),\n",
       " ('braised_beef', 'cookie', 0.16556291390728478, 0.065),\n",
       " ('cookie', 'braised_beef', 0.38461538461538464, 0.151),\n",
       " ('large_drink', 'braised_lamb', 0.13131313131313133, 0.054),\n",
       " ('braised_lamb', 'large_drink', 0.24074074074074073, 0.099),\n",
       " ('meatballs', 'Minis', 0.35714285714285715, 0.148),\n",
       " ('Minis', 'meatballs', 0.30405405405405406, 0.126),\n",
       " ('lamb_sliders', 'large_drink', 0.35185185185185186, 0.163),\n",
       " ('large_drink', 'lamb_sliders', 0.1165644171779141, 0.054),\n",
       " ('chips', 'Minis', 0.16666666666666666, 0.086),\n",
       " ('Minis', 'chips', 0.2441860465116279, 0.126),\n",
       " ('Pita', 'lamb_sliders', 0.2392638036809816, 0.124),\n",
       " ('lamb_sliders', 'Pita', 0.31451612903225806, 0.163),\n",
       " ('cookie', 'braised_lamb', 0.2727272727272727, 0.151),\n",
       " ('braised_lamb', 'cookie', 0.17880794701986755, 0.099),\n",
       " ('Pita', 'meatballs', 0.22297297297297297, 0.124),\n",
       " ('meatballs', 'Pita', 0.2661290322580645, 0.148),\n",
       " ('small_drink', 'braised_beef', 0.07692307692307693, 0.044),\n",
       " ('braised_beef', 'small_drink', 0.11363636363636363, 0.065),\n",
       " ('Minis', 'braised_lamb', 0.21212121212121213, 0.126),\n",
       " ('large_drink', 'small_drink', 0.09090909090909091, 0.054),\n",
       " ('small_drink', 'large_drink', 0.07407407407407407, 0.044),\n",
       " ('braised_lamb', 'Minis', 0.16666666666666666, 0.099),\n",
       " ('Salad', 'falafel', 0.5714285714285714, 0.376),\n",
       " ('falafel', 'Salad', 0.3404255319148936, 0.224),\n",
       " ('Chicken', 'Greens&Grains', 0.7086614173228346, 0.47),\n",
       " ('Greens&Grains', 'Chicken', 0.19148936170212766, 0.127),\n",
       " ('Pita', 'large_drink', 0.18518518518518517, 0.124),\n",
       " ('large_drink', 'Pita', 0.08064516129032258, 0.054),\n",
       " ('cookie', 'Greens&Grains', 0.2125984251968504, 0.151),\n",
       " ('Greens&Grains', 'cookie', 0.17880794701986755, 0.127),\n",
       " ('cookie', 'lamb_sliders', 0.2085889570552147, 0.151),\n",
       " ('lamb_sliders', 'cookie', 0.2251655629139073, 0.163),\n",
       " ('Minis', 'cookie', 0.17218543046357615, 0.126),\n",
       " ('cookie', 'Minis', 0.20634920634920634, 0.151),\n",
       " ('soup', 'Minis', 0.07936507936507936, 0.059),\n",
       " ('Minis', 'soup', 0.1694915254237288, 0.126),\n",
       " ('soup', 'braised_beef', 0.07692307692307693, 0.059),\n",
       " ('braised_beef', 'soup', 0.0847457627118644, 0.065),\n",
       " ('Bowl', 'braised_lamb', 0.5252525252525253, 0.407),\n",
       " ('braised_lamb', 'Bowl', 0.12776412776412777, 0.099),\n",
       " ('Pita', 'small_drink', 0.1590909090909091, 0.124),\n",
       " ('small_drink', 'Pita', 0.056451612903225805, 0.044),\n",
       " ('Pita', 'cookie', 0.152317880794702, 0.124),\n",
       " ('cookie', 'Pita', 0.18548387096774194, 0.151),\n",
       " ('Minis', 'lamb_sliders', 0.15337423312883436, 0.126),\n",
       " ('lamb_sliders', 'Minis', 0.1984126984126984, 0.163),\n",
       " ('Bowl', 'Chicken', 0.4787234042553192, 0.407),\n",
       " ('Chicken', 'Bowl', 0.5528255528255528, 0.47),\n",
       " ('lamb_sliders', 'soup', 0.1864406779661017, 0.163),\n",
       " ('soup', 'lamb_sliders', 0.06748466257668712, 0.059),\n",
       " ('large_drink', 'braised_beef', 0.06153846153846154, 0.054),\n",
       " ('braised_beef', 'large_drink', 0.07407407407407407, 0.065),\n",
       " ('Salad', 'large_drink', 0.42592592592592593, 0.376),\n",
       " ('large_drink', 'Salad', 0.061170212765957445, 0.054),\n",
       " ('large_drink', 'meatballs', 0.060810810810810814, 0.054),\n",
       " ('meatballs', 'large_drink', 0.16666666666666666, 0.148),\n",
       " ('chips', 'Pita', 0.0967741935483871, 0.086),\n",
       " ('Pita', 'chips', 0.13953488372093023, 0.124),\n",
       " ('Bowl', 'chips', 0.45348837209302323, 0.407),\n",
       " ('chips', 'Bowl', 0.09582309582309582, 0.086),\n",
       " ('Pita', 'soup', 0.13559322033898305, 0.124),\n",
       " ('soup', 'Pita', 0.06451612903225806, 0.059),\n",
       " ('Minis', 'small_drink', 0.13636363636363635, 0.126),\n",
       " ('small_drink', 'Minis', 0.047619047619047616, 0.044),\n",
       " ('Greens&Grains', 'soup', 0.13559322033898305, 0.127),\n",
       " ('soup', 'Greens&Grains', 0.06299212598425197, 0.059),\n",
       " ('Chicken', 'Salad', 0.5, 0.47),\n",
       " ('Salad', 'Chicken', 0.4, 0.376),\n",
       " ('Bowl', 'small_drink', 0.4318181818181818, 0.407),\n",
       " ('small_drink', 'Bowl', 0.04668304668304668, 0.044),\n",
       " ('chips', 'small_drink', 0.09090909090909091, 0.086),\n",
       " ('small_drink', 'chips', 0.046511627906976744, 0.044),\n",
       " ('Chicken', 'cookie', 0.4966887417218543, 0.47),\n",
       " ('Salad', 'cookie', 0.3973509933774834, 0.376),\n",
       " ('cookie', 'Chicken', 0.1595744680851064, 0.151),\n",
       " ('cookie', 'Salad', 0.1595744680851064, 0.151),\n",
       " ('cookie', 'small_drink', 0.1590909090909091, 0.151),\n",
       " ('small_drink', 'cookie', 0.046357615894039736, 0.044),\n",
       " ('Salad', 'soup', 0.3898305084745763, 0.376),\n",
       " ('soup', 'Salad', 0.061170212765957445, 0.059),\n",
       " ('Minis', 'large_drink', 0.12962962962962962, 0.126),\n",
       " ('large_drink', 'Minis', 0.05555555555555555, 0.054),\n",
       " ('Salad', 'small_drink', 0.38636363636363635, 0.376),\n",
       " ('small_drink', 'Salad', 0.04521276595744681, 0.044),\n",
       " ('Bowl', 'cookie', 0.41721854304635764, 0.407),\n",
       " ('cookie', 'Bowl', 0.1547911547911548, 0.151),\n",
       " ('Bowl', 'lamb_sliders', 0.4171779141104294, 0.407),\n",
       " ('lamb_sliders', 'Bowl', 0.16707616707616707, 0.163),\n",
       " ('Salad', 'braised_beef', 0.38461538461538464, 0.376),\n",
       " ('braised_beef', 'Salad', 0.06648936170212766, 0.065),\n",
       " ('Greens&Grains', 'large_drink', 0.12962962962962962, 0.127),\n",
       " ('large_drink', 'Greens&Grains', 0.05511811023622047, 0.054),\n",
       " ('Bowl', 'large_drink', 0.4074074074074074, 0.407),\n",
       " ('large_drink', 'Bowl', 0.05405405405405406, 0.054)]"
      ]
     },
     "execution_count": 330,
     "metadata": {},
     "output_type": "execute_result"
    }
   ],
   "source": [
    "# sort by greatest difference in probability, note: we could also sort by x[2] - x[3]\n",
    "sorted(item_pairs, key=lambda x: x[2]/x[3], reverse=True) "
   ]
  },
  {
   "cell_type": "markdown",
   "metadata": {},
   "source": [
    "*Of note is that the strongest growth relationship is between chips and lamb sliders. We can also see that customers are likely to pair Braised Lamb with chips and Soup. Braised beef with Minis, also shows a strong purchasing relationship. Unsurprisingly, there is a relationship between Falafel and Salad, which makes sense for Vegetarian customers. Pita is most commonly paired with Lamb Sliders and Meatballs.*"
   ]
  },
  {
   "cell_type": "markdown",
   "metadata": {},
   "source": [
    "# Problem 3: Study Design"
   ]
  },
  {
   "cell_type": "markdown",
   "metadata": {
    "collapsed": true
   },
   "source": [
    "### I. Business Background"
   ]
  },
  {
   "cell_type": "markdown",
   "metadata": {},
   "source": [
    "```Throughout this proposal, we will use the terms User and Customer interchangeably, given that we are defining non purchasing customers as users who have downloaded the app and not made a purchase to date. The goal of this study is to determine if the mean number of purchases, for a sample customers who have to date not made a purchase can be shown to be significantly different from another population sample by the introduction of a promotional offer, namely a Free Pita card. From a business standpoint, one decision that must be made is what time period the promotion should be valid for. This time period can be chosen based upon market research, or the period of validity be can be variable between 1 week and 1 month for, on weekly intervals for different customers in the treatment group. Then, if there is a significant difference, we can look at the treatment group and see which length of validity is optimal for motivating purchases. The Hypothesis is that the mean # of purchases for the treatment group will be significantly different, given a selected confidence interval , from the control group. Sample Selection and methods for Hypothesis Testing are discussed in detail below.```\n",
    "\n",
    "```We must also determine when to send out a Free Pita card to a customer. Clearly when a new user signs up they will have zero purchases. but we don't want to send a Free Pita card to someone the moment they sign up, because if they are already engaged customers who are already planning to make a purchase, this could introduce a confounding variable. Instead we want to focus on customers who are demonstrably disengaged and non-purchasing. We know from the dataset that mean time until first purchase is around 7 days. Depending on the size of our non-purchasing customers, and the amount of Free Pita cards we are willing to give out, we can either choose to send these promotions when a customer's active period exceeds the mean time to first purchase, without a purchase, or we could choose the third (75%) Quantile. For the first experiment, we should likely prioritize the customers who have the longest period of disengagement, and thus longest active period with no purchase. This is because we do not want to neglect disengaged customers and certainly do not want to allow the number of disengaged customers to grow at a higher rate, relative to the number of engaged customers. ```\n",
    "\n",
    "```Finally, we must track the cost of offering this promotion, as well as the difference in mean number of purchases so that we can identify if the revenue generated by offering this promotion is cost effective, if customers are purchasing other items, as opposed to solely accepting a free Pita. There must be an agreed upon metric that indicates if this is acceptable. For now, we will assume that a positive difference between revenue and cost (profit) is considered a success. Also, after the experiment, we should continue to monitor the treatment group to see if after this initial engagement is generated, the affected customers continue to be engaged, or if offering this promotion is only effective for generating one purchase. In other words, does the mean number of purchases for the treatment group continue to grow even after the experiment has been conducted, or is it stagnant. This will allow us to further track cost effectiveness. We can further examine how the mean number of purchases change with time for the treatment group, relative to customers who are already engaged and purchasing. This will help us determine if this promotion is something that should be offered only to disengaged non purchasing customers, or to our customer base as a whole. ```"
   ]
  },
  {
   "cell_type": "markdown",
   "metadata": {},
   "source": [
    "### II. Sample Selection"
   ]
  },
  {
   "cell_type": "markdown",
   "metadata": {},
   "source": [
    "```We have a dataset that indicates the time to first purchase for users who have downloaded the Cava app, and also the number of purchases that the have made. Given that we want to test the effectiveness of a promotion, it is best that we are blind to all other demographic information for the time being. We can utilize that data later, once we've already determined effectiveness so that we can see which demographic group is most effective. Additionally, since this data comes from app downloads we should construct this experiment so that demographic data is not necessary, because it may not always be reasonable to assume we have access to it.```\n",
    "\n",
    "```We will start by selecting all users who have null/0 purchases, depending on the nature of the dataset. Our treatment and control group should be dependant on the number of promotions we are willing to give out. So if we are willing to give out 1000 Free Pita promotions, our treatment group should be  a randomly selection sample of size 1000 and the control group should be of size 1000. For this experiment we will make our 2000(or whatever number is agreed upon) users the most disengaged users, or in other words, the customers who have had the app the longest without making a purchase. If our experiment determines that this promotion is effective then we could start sending out a promotional email the moment a new customer/user exceeds  either the mean or 75th percentile time to first purchase without making a purchase. Note that we are selecting prioritizing users based on the length of their demonstrated disengagement. There is a possibility that this could confound the experiment due to customers being so disengaged that it is impossible to discern a significant difference between the treatment and control group. There is also a possibility that because customer contact comes from one single data source, which may no longer be up to date given the time that has passed. We will address these risks and mitigation strategies in a following section.```"
   ]
  },
  {
   "cell_type": "markdown",
   "metadata": {},
   "source": [
    "### III. Method of Analysis"
   ]
  },
  {
   "cell_type": "markdown",
   "metadata": {},
   "source": [
    "```Note that in the dataset analyzed above ( which is of course not real data, but lets pretend it is). The time to first purchase is not normally distributed and neither is the distribution of purchases. However if the sample size of this experiment is sufficiently large,the Central Limit Theorem allows us to assume that the distribution of the means will be normally distributed. So, we will be able to apply a Chi-Squared Hypothesis test, where the Null Hypothesis is that the difference between the mean number of purchases of the treamtment group and control group is 0, after the validity period of the promotions have expired. The Alternate Hypothesis is that it is greater than zero. We can establish an agreed upon significance level, or we can follow the often debated convention of using a = .05 for our significance level. Which will allow us to test a 95% confidence interval given that this test is 1 sided.  Note that if we obtain a p-value less than our significance level it does not allow us to accept the alternate hypothesis, only to reject the null hypothesis. We will have to construct a separate hypothesis test to validate that the difference in means. Obtaining this result does however, allow us to declare that the probability of the means being the same, to be lower than our significance level.```\n",
    "\n",
    "`Chi-Sq test on difference in mean purchases for Treatment group and Control group:`\n",
    "\n",
    "$$H_0: \\mu_1 - \\mu_2 = 0$$\n",
    "$$H_1: \\mu_1 - \\mu_2 > 0$$\n",
    "$$\\alpha = 0.05$$\n",
    "\n",
    "```We can then, also examine the conditional probabilities, P(purchase > 0 | promotion), and P(purchase >0 |~No Promotion) and see if there is a difference, and then evaluate this on a cost basis. Meaning, If there is a difference, and the revenue generated by the difference between the mean number of purchases of our experimental groups exceeds the cost of offering these promotions, then we can consider this experiment a success. ```\n",
    "\n",
    "```As mentioned above, if there is a significant difference in the mean number of purchases, we should track how this mean changes with time so that we can see if the promotion is effective for generating one purchase or if it prompts continual engagement. If the mean continues to grow, that indicates offering this promotion is a scalable driver of growth, and we should offer this promotion on a larger scale. As mentioned previously we could begin offering it the moment some threshold number of days is exceeded after downloading the app, this way we are making continuous efforts to keep customers engaged. Additionally, the period of validity varied for different customers. If this experiment was successful we should further examine the treatment group to see which validity period yields the best results in driving purchases. This way, if we productionize this promotion, we have a good understanding of how long the validity period should be. ```"
   ]
  },
  {
   "cell_type": "markdown",
   "metadata": {},
   "source": [
    "### IV. Risks, Assumptions, and Mitigation"
   ]
  },
  {
   "cell_type": "markdown",
   "metadata": {
    "collapsed": true
   },
   "source": [
    "```Recall that we prioritized the customers who have had the app for longest without making a purchase, and then randomly selected control and treatment groups from that group. There are two possible ways this could confound results and cause us to observe that there is no significant difference between the mean number of purchases made by the control group and treatment group. The first case could be that these customers are so disengaged that very few customers in the treatment group actually respond to the promotion. The second case is that, if a significant amount of time has passed, the contact information for these customers may no longer be up to date. In order to mitigate this, if we find that there is no significant difference between the means, we should repeat this experiment, by selecting customers who have recently downloaded the app but exceeded the mean days until first purchase, without a purchase. This does not force us to accept that our longest disengaged customers, are no longer reachable, instead it requires us to brainstorm alternative strategies for engaging with them, if their contact information is up to date.```\n",
    "\n",
    "```Additionally, we should conduct this experiment on non-purchasing customers sourced from other data streams. Examples of these data streams would be Facebook likers, Twitter followers, or people who have engaged with Cava at marketing fairs and offered contact information without making an in store purchase. Note that for this customer segment it may be difficult to verify whether or not they are actually non-purchasing customers. Some type of email or social media engagement would have to be initiated that would allow us to reasonably determine whether they are purchasers or non purchasers.  ```"
   ]
  },
  {
   "cell_type": "code",
   "execution_count": null,
   "metadata": {
    "collapsed": true
   },
   "outputs": [],
   "source": []
  }
 ],
 "metadata": {
  "kernelspec": {
   "display_name": "Python 2",
   "language": "python",
   "name": "python2"
  },
  "language_info": {
   "codemirror_mode": {
    "name": "ipython",
    "version": 2
   },
   "file_extension": ".py",
   "mimetype": "text/x-python",
   "name": "python",
   "nbconvert_exporter": "python",
   "pygments_lexer": "ipython2",
   "version": "2.7.10"
  }
 },
 "nbformat": 4,
 "nbformat_minor": 0
}
